{
 "cells": [
  {
   "cell_type": "code",
   "execution_count": 1,
   "id": "a2cfee7a",
   "metadata": {},
   "outputs": [
    {
     "name": "stdout",
     "output_type": "stream",
     "text": [
      "Requirement already satisfied: watson-machine-learning-client in c:\\users\\vijay\\anaconda3\\lib\\site-packages (1.0.391)\n",
      "Requirement already satisfied: tabulate in c:\\users\\vijay\\anaconda3\\lib\\site-packages (from watson-machine-learning-client) (0.8.10)\n",
      "Requirement already satisfied: ibm-cos-sdk in c:\\users\\vijay\\anaconda3\\lib\\site-packages (from watson-machine-learning-client) (2.12.0)\n",
      "Requirement already satisfied: pandas in c:\\users\\vijay\\anaconda3\\lib\\site-packages (from watson-machine-learning-client) (1.4.4)\n",
      "Requirement already satisfied: certifi in c:\\users\\vijay\\anaconda3\\lib\\site-packages (from watson-machine-learning-client) (2022.9.14)\n",
      "Requirement already satisfied: boto3 in c:\\users\\vijay\\anaconda3\\lib\\site-packages (from watson-machine-learning-client) (1.24.28)\n",
      "Requirement already satisfied: requests in c:\\users\\vijay\\anaconda3\\lib\\site-packages (from watson-machine-learning-client) (2.28.1)\n",
      "Requirement already satisfied: tqdm in c:\\users\\vijay\\anaconda3\\lib\\site-packages (from watson-machine-learning-client) (4.64.1)\n",
      "Requirement already satisfied: lomond in c:\\users\\vijay\\anaconda3\\lib\\site-packages (from watson-machine-learning-client) (0.3.3)\n",
      "Requirement already satisfied: urllib3 in c:\\users\\vijay\\anaconda3\\lib\\site-packages (from watson-machine-learning-client) (1.26.11)\n",
      "Requirement already satisfied: s3transfer<0.7.0,>=0.6.0 in c:\\users\\vijay\\anaconda3\\lib\\site-packages (from boto3->watson-machine-learning-client) (0.6.0)\n",
      "Requirement already satisfied: jmespath<2.0.0,>=0.7.1 in c:\\users\\vijay\\anaconda3\\lib\\site-packages (from boto3->watson-machine-learning-client) (0.10.0)\n",
      "Requirement already satisfied: botocore<1.28.0,>=1.27.28 in c:\\users\\vijay\\anaconda3\\lib\\site-packages (from boto3->watson-machine-learning-client) (1.27.28)\n",
      "Requirement already satisfied: ibm-cos-sdk-core==2.12.0 in c:\\users\\vijay\\anaconda3\\lib\\site-packages (from ibm-cos-sdk->watson-machine-learning-client) (2.12.0)\n",
      "Requirement already satisfied: ibm-cos-sdk-s3transfer==2.12.0 in c:\\users\\vijay\\anaconda3\\lib\\site-packages (from ibm-cos-sdk->watson-machine-learning-client) (2.12.0)\n",
      "Requirement already satisfied: python-dateutil<3.0.0,>=2.8.2 in c:\\users\\vijay\\anaconda3\\lib\\site-packages (from ibm-cos-sdk-core==2.12.0->ibm-cos-sdk->watson-machine-learning-client) (2.8.2)\n",
      "Requirement already satisfied: idna<4,>=2.5 in c:\\users\\vijay\\anaconda3\\lib\\site-packages (from requests->watson-machine-learning-client) (3.3)\n",
      "Requirement already satisfied: charset-normalizer<3,>=2 in c:\\users\\vijay\\anaconda3\\lib\\site-packages (from requests->watson-machine-learning-client) (2.0.4)\n",
      "Requirement already satisfied: six>=1.10.0 in c:\\users\\vijay\\anaconda3\\lib\\site-packages (from lomond->watson-machine-learning-client) (1.16.0)\n",
      "Requirement already satisfied: numpy>=1.18.5 in c:\\users\\vijay\\anaconda3\\lib\\site-packages (from pandas->watson-machine-learning-client) (1.21.5)\n",
      "Requirement already satisfied: pytz>=2020.1 in c:\\users\\vijay\\anaconda3\\lib\\site-packages (from pandas->watson-machine-learning-client) (2022.1)\n",
      "Requirement already satisfied: colorama in c:\\users\\vijay\\anaconda3\\lib\\site-packages (from tqdm->watson-machine-learning-client) (0.4.5)\n"
     ]
    }
   ],
   "source": [
    "!pip install watson-machine-learning-client "
   ]
  },
  {
   "cell_type": "code",
   "execution_count": 3,
   "id": "52b2f970",
   "metadata": {},
   "outputs": [],
   "source": [
    "from ibm_watson_machine_learning import APIClient\n",
    "wml_credentials = {\n",
    "    \"url\" : \"https://us-south.ml.cloud.ibm.com\",\n",
    "    \"apikey\" : \"o49g8_rjLtMfFOxWPrBuja8eQPmNZtIK-uGy3_MzolZp\"\n",
    "}\n",
    "client = APIClient(wml_credentials)"
   ]
  },
  {
   "cell_type": "code",
   "execution_count": 4,
   "id": "ebe1aa45",
   "metadata": {},
   "outputs": [],
   "source": [
    "client = APIClient(wml_credentials)"
   ]
  },
  {
   "cell_type": "code",
   "execution_count": 5,
   "id": "95448b3b",
   "metadata": {},
   "outputs": [],
   "source": [
    "def giud_from_space_name(client,space_name):\n",
    "    space = client.spaces.get_details()\n",
    "    return(next(item for item in space['resources'] if item['entity']['name'] == space_name)['metadata']['id'])"
   ]
  },
  {
   "cell_type": "code",
   "execution_count": 6,
   "id": "a76e3869",
   "metadata": {},
   "outputs": [
    {
     "name": "stdout",
     "output_type": "stream",
     "text": [
      "Space UID = 95d43728-b342-4a09-aa61-029dab0c8375\n"
     ]
    }
   ],
   "source": [
    "space_uid = giud_from_space_name(client,'Nutrition Analyzer')\n",
    "print(\"Space UID = \"+ space_uid)"
   ]
  },
  {
   "cell_type": "code",
   "execution_count": 7,
   "id": "6cfa2d81",
   "metadata": {},
   "outputs": [
    {
     "data": {
      "text/plain": [
       "'SUCCESS'"
      ]
     },
     "execution_count": 7,
     "metadata": {},
     "output_type": "execute_result"
    }
   ],
   "source": [
    "client.set.default_space(space_uid)"
   ]
  },
  {
   "cell_type": "code",
   "execution_count": 9,
   "id": "5c7ad3b4",
   "metadata": {},
   "outputs": [
    {
     "name": "stdout",
     "output_type": "stream",
     "text": [
      "Successfully saved model content to file: 'my_model.tar.gz'\n"
     ]
    },
    {
     "data": {
      "text/plain": [
       "'C:\\\\Users\\\\vijay/my_model.tar.gz'"
      ]
     },
     "execution_count": 9,
     "metadata": {},
     "output_type": "execute_result"
    }
   ],
   "source": [
    "client.repository.download('4e26aed0-bb0c-4b3d-8476-9630f3617dc2', 'my_model.tar.gz')"
   ]
  },
  {
   "cell_type": "code",
   "execution_count": null,
   "id": "aefad1ef",
   "metadata": {},
   "outputs": [],
   "source": []
  }
 ],
 "metadata": {
  "kernelspec": {
   "display_name": "Python 3 (ipykernel)",
   "language": "python",
   "name": "python3"
  },
  "language_info": {
   "codemirror_mode": {
    "name": "ipython",
    "version": 3
   },
   "file_extension": ".py",
   "mimetype": "text/x-python",
   "name": "python",
   "nbconvert_exporter": "python",
   "pygments_lexer": "ipython3",
   "version": "3.9.13"
  }
 },
 "nbformat": 4,
 "nbformat_minor": 5
}
